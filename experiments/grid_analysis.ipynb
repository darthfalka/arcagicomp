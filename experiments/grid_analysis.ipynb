{
 "cells": [
  {
   "cell_type": "markdown",
   "metadata": {},
   "source": [
    "## 23.09.2024"
   ]
  },
  {
   "cell_type": "markdown",
   "metadata": {},
   "source": [
    "Loading the dataset"
   ]
  },
  {
   "cell_type": "code",
   "execution_count": 1,
   "metadata": {},
   "outputs": [],
   "source": [
    "import os \n",
    "import glob \n",
    "import json \n",
    "import numpy as np \n",
    "\n",
    "path = f'{os.getcwd()}/ARC-AGI/data/training'\n",
    "glob_path = f'{path}/*.json'"
   ]
  },
  {
   "cell_type": "code",
   "execution_count": 2,
   "metadata": {},
   "outputs": [],
   "source": [
    "data = []\n",
    "for item in glob.glob(glob_path):\n",
    "    with open(item, 'r') as file:\n",
    "        data += [json.load(file)]"
   ]
  },
  {
   "cell_type": "markdown",
   "metadata": {},
   "source": [
    "#### analysis"
   ]
  },
  {
   "cell_type": "code",
   "execution_count": 23,
   "metadata": {},
   "outputs": [],
   "source": [
    "from collections import Counter"
   ]
  },
  {
   "cell_type": "markdown",
   "metadata": {},
   "source": [
    "- (n x m) grid where n != m \n",
    "- have 10 types of entries [0, ... 9]"
   ]
  },
  {
   "cell_type": "code",
   "execution_count": 3,
   "metadata": {},
   "outputs": [],
   "source": [
    "# checking the size of the grid in the training examples\n",
    "train_shapes = [np.array(i['train'][0]['input']).shape for i in data]"
   ]
  },
  {
   "cell_type": "code",
   "execution_count": 10,
   "metadata": {},
   "outputs": [
    {
     "data": {
      "text/plain": [
       "[(30, 30), (30, 30), (30, 30), (30, 30), (30, 30)]"
      ]
     },
     "execution_count": 10,
     "metadata": {},
     "output_type": "execute_result"
    }
   ],
   "source": [
    "import numpy as np \n",
    "[i for i in train_shapes if i[0]* i[-1] == 900]"
   ]
  },
  {
   "cell_type": "code",
   "execution_count": 74,
   "metadata": {},
   "outputs": [
    {
     "data": {
      "text/plain": [
       "120"
      ]
     },
     "execution_count": 74,
     "metadata": {},
     "output_type": "execute_result"
    }
   ],
   "source": [
    "len(tuple(set(train_shapes))) # number of different grid sizes available in training dataset"
   ]
  },
  {
   "cell_type": "code",
   "execution_count": 24,
   "metadata": {},
   "outputs": [
    {
     "data": {
      "text/plain": [
       "Counter({(10, 10): 70,\n",
       "         (3, 3): 49,\n",
       "         (9, 9): 20,\n",
       "         (5, 5): 14,\n",
       "         (13, 13): 12,\n",
       "         (15, 15): 11,\n",
       "         (6, 6): 9,\n",
       "         (11, 11): 9,\n",
       "         (12, 12): 9,\n",
       "         (7, 7): 7,\n",
       "         (20, 20): 7,\n",
       "         (8, 8): 6,\n",
       "         (21, 21): 6,\n",
       "         (16, 16): 6,\n",
       "         (14, 14): 5,\n",
       "         (30, 30): 5,\n",
       "         (24, 24): 4,\n",
       "         (17, 17): 4,\n",
       "         (10, 15): 4,\n",
       "         (5, 7): 4,\n",
       "         (23, 23): 3,\n",
       "         (9, 4): 3,\n",
       "         (19, 19): 3,\n",
       "         (3, 10): 3,\n",
       "         (7, 13): 3,\n",
       "         (4, 4): 3,\n",
       "         (3, 6): 3,\n",
       "         (3, 4): 3,\n",
       "         (12, 11): 2,\n",
       "         (14, 9): 2,\n",
       "         (6, 3): 2,\n",
       "         (29, 29): 2,\n",
       "         (2, 2): 2,\n",
       "         (10, 9): 2,\n",
       "         (18, 19): 2,\n",
       "         (4, 14): 2,\n",
       "         (3, 11): 2,\n",
       "         (9, 13): 2,\n",
       "         (9, 3): 2,\n",
       "         (12, 13): 2,\n",
       "         (10, 2): 2,\n",
       "         (10, 8): 2,\n",
       "         (12, 19): 2,\n",
       "         (13, 17): 2,\n",
       "         (9, 11): 2,\n",
       "         (18, 18): 2,\n",
       "         (3, 9): 2,\n",
       "         (6, 10): 2,\n",
       "         (14, 10): 2,\n",
       "         (15, 19): 2,\n",
       "         (10, 12): 2,\n",
       "         (18, 15): 1,\n",
       "         (8, 4): 1,\n",
       "         (17, 23): 1,\n",
       "         (13, 15): 1,\n",
       "         (11, 22): 1,\n",
       "         (5, 15): 1,\n",
       "         (23, 21): 1,\n",
       "         (24, 19): 1,\n",
       "         (2, 6): 1,\n",
       "         (18, 13): 1,\n",
       "         (15, 10): 1,\n",
       "         (13, 22): 1,\n",
       "         (5, 11): 1,\n",
       "         (10, 4): 1,\n",
       "         (16, 10): 1,\n",
       "         (2, 4): 1,\n",
       "         (4, 16): 1,\n",
       "         (17, 13): 1,\n",
       "         (13, 14): 1,\n",
       "         (18, 21): 1,\n",
       "         (16, 18): 1,\n",
       "         (15, 18): 1,\n",
       "         (3, 5): 1,\n",
       "         (18, 16): 1,\n",
       "         (20, 19): 1,\n",
       "         (19, 13): 1,\n",
       "         (30, 17): 1,\n",
       "         (14, 16): 1,\n",
       "         (8, 30): 1,\n",
       "         (3, 7): 1,\n",
       "         (5, 10): 1,\n",
       "         (12, 14): 1,\n",
       "         (3, 17): 1,\n",
       "         (23, 27): 1,\n",
       "         (6, 9): 1,\n",
       "         (10, 25): 1,\n",
       "         (14, 12): 1,\n",
       "         (20, 30): 1,\n",
       "         (16, 11): 1,\n",
       "         (8, 3): 1,\n",
       "         (7, 9): 1,\n",
       "         (20, 24): 1,\n",
       "         (1, 5): 1,\n",
       "         (20, 22): 1,\n",
       "         (22, 22): 1,\n",
       "         (3, 30): 1,\n",
       "         (19, 12): 1,\n",
       "         (5, 6): 1,\n",
       "         (5, 9): 1,\n",
       "         (9, 12): 1,\n",
       "         (30, 20): 1,\n",
       "         (17, 18): 1,\n",
       "         (13, 5): 1,\n",
       "         (10, 7): 1,\n",
       "         (15, 13): 1,\n",
       "         (27, 21): 1,\n",
       "         (19, 21): 1,\n",
       "         (10, 3): 1,\n",
       "         (4, 7): 1,\n",
       "         (17, 12): 1,\n",
       "         (3, 2): 1,\n",
       "         (19, 8): 1,\n",
       "         (1, 6): 1,\n",
       "         (11, 24): 1,\n",
       "         (14, 18): 1,\n",
       "         (16, 12): 1,\n",
       "         (15, 16): 1,\n",
       "         (4, 8): 1,\n",
       "         (17, 14): 1})"
      ]
     },
     "execution_count": 24,
     "metadata": {},
     "output_type": "execute_result"
    }
   ],
   "source": [
    "Counter(train_shapes)"
   ]
  },
  {
   "cell_type": "code",
   "execution_count": 34,
   "metadata": {},
   "outputs": [],
   "source": [
    "from datasets import Dataset\n",
    "import torch \n",
    "device = (\n",
    "    \"cuda\"\n",
    "    if torch.cuda.is_available()\n",
    "    else \"mps\"\n",
    "    if torch.backends.mps.is_available()\n",
    "    else \"cpu\"\n",
    ")"
   ]
  },
  {
   "cell_type": "code",
   "execution_count": 68,
   "metadata": {},
   "outputs": [],
   "source": [
    "train_data = [j for i in data for j in i['train']]\n",
    "test_data = [j for i in data for j in i['test']]"
   ]
  },
  {
   "cell_type": "markdown",
   "metadata": {},
   "source": [
    "flattened shape"
   ]
  },
  {
   "cell_type": "code",
   "execution_count": null,
   "metadata": {},
   "outputs": [
    {
     "data": {
      "text/plain": [
       "{torch.Size([4]),\n",
       " torch.Size([5]),\n",
       " torch.Size([6]),\n",
       " torch.Size([8]),\n",
       " torch.Size([9]),\n",
       " torch.Size([10]),\n",
       " torch.Size([12]),\n",
       " torch.Size([15]),\n",
       " torch.Size([16]),\n",
       " torch.Size([18]),\n",
       " torch.Size([20]),\n",
       " torch.Size([21]),\n",
       " torch.Size([24]),\n",
       " torch.Size([25]),\n",
       " torch.Size([27]),\n",
       " torch.Size([28]),\n",
       " torch.Size([30]),\n",
       " torch.Size([32]),\n",
       " torch.Size([33]),\n",
       " torch.Size([35]),\n",
       " torch.Size([36]),\n",
       " torch.Size([39]),\n",
       " torch.Size([40]),\n",
       " torch.Size([42]),\n",
       " torch.Size([45]),\n",
       " torch.Size([48]),\n",
       " torch.Size([49]),\n",
       " torch.Size([50]),\n",
       " torch.Size([51]),\n",
       " torch.Size([54]),\n",
       " torch.Size([55]),\n",
       " torch.Size([56]),\n",
       " torch.Size([60]),\n",
       " torch.Size([63]),\n",
       " torch.Size([64]),\n",
       " torch.Size([65]),\n",
       " torch.Size([66]),\n",
       " torch.Size([68]),\n",
       " torch.Size([70]),\n",
       " torch.Size([72]),\n",
       " torch.Size([75]),\n",
       " torch.Size([77]),\n",
       " torch.Size([80]),\n",
       " torch.Size([81]),\n",
       " torch.Size([85]),\n",
       " torch.Size([88]),\n",
       " torch.Size([90]),\n",
       " torch.Size([91]),\n",
       " torch.Size([96]),\n",
       " torch.Size([99]),\n",
       " torch.Size([100]),\n",
       " torch.Size([108]),\n",
       " torch.Size([110]),\n",
       " torch.Size([117]),\n",
       " torch.Size([120]),\n",
       " torch.Size([121]),\n",
       " torch.Size([126]),\n",
       " torch.Size([130]),\n",
       " torch.Size([132]),\n",
       " torch.Size([140]),\n",
       " torch.Size([143]),\n",
       " torch.Size([144]),\n",
       " torch.Size([150]),\n",
       " torch.Size([152]),\n",
       " torch.Size([153]),\n",
       " torch.Size([154]),\n",
       " torch.Size([156]),\n",
       " torch.Size([160]),\n",
       " torch.Size([161]),\n",
       " torch.Size([168]),\n",
       " torch.Size([169]),\n",
       " torch.Size([171]),\n",
       " torch.Size([176]),\n",
       " torch.Size([180]),\n",
       " torch.Size([182]),\n",
       " torch.Size([192]),\n",
       " torch.Size([195]),\n",
       " torch.Size([196]),\n",
       " torch.Size([198]),\n",
       " torch.Size([200]),\n",
       " torch.Size([204]),\n",
       " torch.Size([208]),\n",
       " torch.Size([209]),\n",
       " torch.Size([210]),\n",
       " torch.Size([216]),\n",
       " torch.Size([220]),\n",
       " torch.Size([221]),\n",
       " torch.Size([224]),\n",
       " torch.Size([225]),\n",
       " torch.Size([228]),\n",
       " torch.Size([234]),\n",
       " torch.Size([238]),\n",
       " torch.Size([240]),\n",
       " torch.Size([242]),\n",
       " torch.Size([247]),\n",
       " torch.Size([250]),\n",
       " torch.Size([252]),\n",
       " torch.Size([255]),\n",
       " torch.Size([256]),\n",
       " torch.Size([260]),\n",
       " torch.Size([264]),\n",
       " torch.Size([266]),\n",
       " torch.Size([270]),\n",
       " torch.Size([272]),\n",
       " torch.Size([285]),\n",
       " torch.Size([286]),\n",
       " torch.Size([288]),\n",
       " torch.Size([289]),\n",
       " torch.Size([304]),\n",
       " torch.Size([306]),\n",
       " torch.Size([323]),\n",
       " torch.Size([324]),\n",
       " torch.Size([342]),\n",
       " torch.Size([361]),\n",
       " torch.Size([378]),\n",
       " torch.Size([380]),\n",
       " torch.Size([391]),\n",
       " torch.Size([396]),\n",
       " torch.Size([399]),\n",
       " torch.Size([400]),\n",
       " torch.Size([418]),\n",
       " torch.Size([420]),\n",
       " torch.Size([440]),\n",
       " torch.Size([441]),\n",
       " torch.Size([456]),\n",
       " torch.Size([462]),\n",
       " torch.Size([480]),\n",
       " torch.Size([483]),\n",
       " torch.Size([484]),\n",
       " torch.Size([504]),\n",
       " torch.Size([506]),\n",
       " torch.Size([510]),\n",
       " torch.Size([529]),\n",
       " torch.Size([550]),\n",
       " torch.Size([552]),\n",
       " torch.Size([567]),\n",
       " torch.Size([576]),\n",
       " torch.Size([600]),\n",
       " torch.Size([621]),\n",
       " torch.Size([675]),\n",
       " torch.Size([676]),\n",
       " torch.Size([729]),\n",
       " torch.Size([784]),\n",
       " torch.Size([841]),\n",
       " torch.Size([900])}"
      ]
     },
     "metadata": {},
     "output_type": "display_data"
    }
   ],
   "source": [
    "set([torch.tensor(i['input'], dtype=torch.float, device=device).flatten().shape for i in train_data])"
   ]
  },
  {
   "cell_type": "code",
   "execution_count": null,
   "metadata": {},
   "outputs": [],
   "source": [
    "all_flatten_shape = set([torch.tensor(i['input'], dtype=torch.float, device=device).flatten().shape for i in train_data])\n",
    "max(all_flatten_shape) # 900"
   ]
  },
  {
   "cell_type": "code",
   "execution_count": 72,
   "metadata": {},
   "outputs": [
    {
     "data": {
      "text/plain": [
       "{'input': [[5, 0, 0], [0, 5, 0], [5, 0, 0]],\n",
       " 'output': [[2, 2, 2], [4, 4, 4], [2, 2, 2]]}"
      ]
     },
     "execution_count": 72,
     "metadata": {},
     "output_type": "execute_result"
    }
   ],
   "source": [
    "train_data[2]"
   ]
  },
  {
   "cell_type": "code",
   "execution_count": 79,
   "metadata": {},
   "outputs": [],
   "source": [
    "ff = [j for i in train_data for j in i['input']]"
   ]
  },
  {
   "cell_type": "code",
   "execution_count": 81,
   "metadata": {},
   "outputs": [
    {
     "data": {
      "text/plain": [
       "{0, 1, 2, 3, 4, 5, 6, 7, 8, 9}"
      ]
     },
     "execution_count": 81,
     "metadata": {},
     "output_type": "execute_result"
    }
   ],
   "source": [
    "set([j for i in ff for j in i])"
   ]
  },
  {
   "cell_type": "code",
   "execution_count": 83,
   "metadata": {},
   "outputs": [
    {
     "data": {
      "text/plain": [
       "(30, 30)"
      ]
     },
     "execution_count": 83,
     "metadata": {},
     "output_type": "execute_result"
    }
   ],
   "source": [
    "# max grid size\n",
    "max([i[0] for i in train_shapes]), max([i[-1] for i in train_shapes])"
   ]
  },
  {
   "cell_type": "code",
   "execution_count": 84,
   "metadata": {},
   "outputs": [
    {
     "data": {
      "text/plain": [
       "(1, 2)"
      ]
     },
     "execution_count": 84,
     "metadata": {},
     "output_type": "execute_result"
    }
   ],
   "source": [
    "# min grid size\n",
    "min([i[0] for i in train_shapes]), min([i[-1] for i in train_shapes])"
   ]
  }
 ],
 "metadata": {
  "kernelspec": {
   "display_name": "garfield",
   "language": "python",
   "name": "python3"
  },
  "language_info": {
   "codemirror_mode": {
    "name": "ipython",
    "version": 3
   },
   "file_extension": ".py",
   "mimetype": "text/x-python",
   "name": "python",
   "nbconvert_exporter": "python",
   "pygments_lexer": "ipython3",
   "version": "3.12.2"
  }
 },
 "nbformat": 4,
 "nbformat_minor": 2
}
